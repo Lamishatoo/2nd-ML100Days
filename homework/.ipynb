{
 "cells": [
  {
   "cell_type": "markdown",
   "metadata": {},
   "source": [
    "# HW1\n",
    "我選擇的是一筆關於 Apple Store Apps 的相關資訊\n",
    "#### 1. 你選的這組資料為何重要\n",
    "現在社會，智慧型手機已是人手一機，電視廣告 87% 都在廣告手機遊戲，可想而知手機 App 這塊市場是百家爭鳴之地，誰能掌握使用者的喜好便能掌握商機。因此透過此筆資料的分析，或許我們可以瞭解人們點擊 App 的一些習性(有些 App 很好用，只是缺乏包裝)或是哪些類型的遊戲較吸引人。\n",
    "#### 2. 資料從何而來\n",
    "這筆資料的蒐集方式是透過 jQuery 的方式抓取所有在 Google play 上面的開放資訊。(如果我英文理解沒錯的話...)\n",
    "\n",
    "#### 3. 蒐集而來的資料型態為何\n",
    "這筆資料主要包含 5 個連續型變數 (評價、回覆次數、安裝次數、檔案大小、價格)、3 個離散型變數 (App 類型、目前版本、Android 版本)以及 App 名稱與最後更新日期\n",
    "\n",
    "#### 4. 這組資料想解決的問題如何評估\n",
    "我認為此筆資料雖然變數不多，但仍有機會做一些分群的分析，透過討論度(回覆次數)、類型、價格來反應:安裝次數或是評價，或許可以建議開發 App 相關的企業看看要往哪個方向前進。\n",
    "Ex: 今天我的目標就是要下載次數高，評價方面及格就好(炒短線拉)，那我可能會從這筆資料summary發現免費 & 交友相關的 app 最可以達成我的目的，那可能會比較考慮往這塊著手。\n",
    "# HW2\n",
    "想像你經營一個自由載客車隊，你希望能透過數據分析以提升業績，請思考如何規劃整體的分析/解決方案：\n",
    "\n",
    "1. 核心問題為何 (tips：如何定義 「提升業績 & 你的假設」)\n",
    "\n",
    "2. 資料從何而來 (tips：哪些資料可能會對你想問的問題產生影響 & 資料如何蒐集)\n",
    "\n",
    "3. 蒐集而來的資料型態為何\n",
    "\n",
    "4. 你要回答的問題，其如何評估 (tips：你的假設如何驗證)\n",
    "# HW3\n",
    "#### 寫個函式計算 Mean Square Error\n",
    "$ MSE = \\frac{1}{n}\\sum_{i=1}^{n}{(Y_i - \\hat{Y}_i)^2} $"
   ]
  },
  {
   "cell_type": "code",
   "execution_count": null,
   "metadata": {},
   "outputs": [],
   "source": [
    "import numpy as np\n",
    "import matplotlib.pyplot as plt"
   ]
  },
  {
   "cell_type": "code",
   "execution_count": null,
   "metadata": {},
   "outputs": [],
   "source": [
    "def mean_squared_error():\n",
    "    \"\"\"\n",
    "    請完成這個 Function 後往下執行\n",
    "    \"\"\"\n"
   ]
  },
  {
   "cell_type": "code",
   "execution_count": null,
   "metadata": {},
   "outputs": [],
   "source": [
    "w = 3\n",
    "b = 0.5\n",
    "\n",
    "x_lin = np.linspace(0, 100, 101)\n",
    "\n",
    "y = (x_lin + np.random.randn(101) * 5) * w + b\n",
    "\n",
    "plt.plot(x_lin, y, 'b.', label = 'data points')\n",
    "plt.title(\"Assume we have data points\")\n",
    "plt.legend(loc = 2)\n",
    "plt.show()"
   ]
  },
  {
   "cell_type": "code",
   "execution_count": null,
   "metadata": {},
   "outputs": [],
   "source": [
    "y_hat = x_lin * w + b\n",
    "plt.plot(x_lin, y, 'b.', label = 'data')\n",
    "plt.plot(x_lin, y_hat, 'r-', label = 'prediction')\n",
    "plt.title(\"Assume we have data points (And the prediction)\")\n",
    "plt.legend(loc = 2)\n",
    "plt.show()"
   ]
  },
  {
   "cell_type": "code",
   "execution_count": null,
   "metadata": {},
   "outputs": [],
   "source": [
    "# 執行 Function, 確認有沒有正常執行\n",
    "MSE = mean_squared_error(y, y_hat)\n",
    "MAE = mean_absolute_error(y, y_hat)\n",
    "print(\"The Mean squared error is %.3f\" % (MSE))\n",
    "print(\"The Mean absolute error is %.3f\" % (MAE))"
   ]
  }
 ],
 "metadata": {
  "anaconda-cloud": {},
  "kernelspec": {
   "display_name": "Python 3",
   "language": "python",
   "name": "python3"
  },
  "language_info": {
   "codemirror_mode": {
    "name": "ipython",
    "version": 3
   },
   "file_extension": ".py",
   "mimetype": "text/x-python",
   "name": "python",
   "nbconvert_exporter": "python",
   "pygments_lexer": "ipython3",
   "version": "3.7.1"
  }
 },
 "nbformat": 4,
 "nbformat_minor": 1
}
